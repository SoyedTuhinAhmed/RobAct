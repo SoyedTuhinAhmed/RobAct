{
 "cells": [
  {
   "cell_type": "code",
   "execution_count": 1,
   "metadata": {},
   "outputs": [],
   "source": [
    "import torch, noise_model\n",
    "import torch.nn as nn\n",
    "import torch.optim as optim\n",
    "import torch.nn.functional as F\n",
    "from torchvision import datasets, transforms\n",
    "from torch.utils.data import DataLoader\n",
    "import random, copy, numpy as np\n",
    "import matplotlib.pyplot as plt\n",
    "import train_fp"
   ]
  },
  {
   "cell_type": "code",
   "execution_count": 2,
   "metadata": {},
   "outputs": [
    {
     "name": "stdout",
     "output_type": "stream",
     "text": [
      "==> Preparing data..\n",
      "Files already downloaded and verified\n",
      "Files already downloaded and verified\n"
     ]
    }
   ],
   "source": [
    "train_loader, test_loader = train_fp.load_data()\n",
    "criterion = nn.CrossEntropyLoss()\n",
    "num_epochs = 200\n",
    "nm = noise_model.RRAMNonidealities()"
   ]
  },
  {
   "cell_type": "code",
   "execution_count": 3,
   "metadata": {},
   "outputs": [],
   "source": [
    "mode_relu = train_fp.Model(train_loader, test_loader, criterion, optim.AdamW, num_epochs=num_epochs, activation_type='relu')\n",
    "model_grrelu = train_fp.Model(train_loader, test_loader, criterion, optim.AdamW, num_epochs=num_epochs, activation_type='grrelu')"
   ]
  },
  {
   "cell_type": "code",
   "execution_count": 4,
   "metadata": {},
   "outputs": [
    {
     "data": {
      "text/plain": [
       "(94.06, 91.3)"
      ]
     },
     "execution_count": 4,
     "metadata": {},
     "output_type": "execute_result"
    }
   ],
   "source": [
    "# Load models\n",
    "mode_relu.net.load_state_dict(torch.load(f'./best_model_relu.pth', weights_only=False))\n",
    "# model_grrelu.net.load_state_dict(torch.load(f'./best_model_grrelu_slope_0.1x_addmul_noise_learable.pth', weights_only=False))\n",
    "model_grrelu.net.load_state_dict(torch.load(f'./best_model_grrelu.pth', weights_only=False))\n",
    "mode_relu.eval(test_loader), model_grrelu.eval(test_loader)"
   ]
  },
  {
   "cell_type": "code",
   "execution_count": 5,
   "metadata": {},
   "outputs": [],
   "source": [
    "nm = noise_model.RRAMNonidealities(\n",
    "    d2d_std=0.3,\n",
    ")"
   ]
  },
  {
   "cell_type": "code",
   "execution_count": 6,
   "metadata": {},
   "outputs": [
    {
     "data": {
      "text/plain": [
       "71.35"
      ]
     },
     "execution_count": 6,
     "metadata": {},
     "output_type": "execute_result"
    }
   ],
   "source": [
    "noisy_mode_relu = nm.apply_device_to_device_variation(mode_relu.net)\n",
    "mode_relu.net = noisy_mode_relu\n",
    "mode_relu.eval(test_loader)"
   ]
  },
  {
   "cell_type": "code",
   "execution_count": 7,
   "metadata": {},
   "outputs": [
    {
     "data": {
      "text/plain": [
       "87.14"
      ]
     },
     "execution_count": 7,
     "metadata": {},
     "output_type": "execute_result"
    }
   ],
   "source": [
    "noisy_mode_relu = nm.apply_device_to_device_variation(model_grrelu.net)\n",
    "model_grrelu.net = noisy_mode_relu\n",
    "model_grrelu.eval(test_loader)"
   ]
  },
  {
   "cell_type": "code",
   "execution_count": 20,
   "metadata": {},
   "outputs": [
    {
     "data": {
      "text/plain": [
       "(tensor(0.0473, device='cuda:0', grad_fn=<ExpBackward0>),\n",
       " tensor(0.0537, device='cuda:0', grad_fn=<ExpBackward0>))"
      ]
     },
     "execution_count": 20,
     "metadata": {},
     "output_type": "execute_result"
    }
   ],
   "source": [
    "model_grrelu.net.activation.raw_std_scale.exp(), model_grrelu.net.activation.raw_std_shift.exp()"
   ]
  },
  {
   "cell_type": "code",
   "execution_count": 24,
   "metadata": {},
   "outputs": [
    {
     "data": {
      "text/plain": [
       "(tensor(0.0986), tensor(0.2930))"
      ]
     },
     "execution_count": 24,
     "metadata": {},
     "output_type": "execute_result"
    }
   ],
   "source": [
    "a = (torch.randn(1000)*0.3) + 0.1\n",
    "a.mean(), a.std()"
   ]
  },
  {
   "cell_type": "code",
   "execution_count": 11,
   "metadata": {},
   "outputs": [
    {
     "name": "stdout",
     "output_type": "stream",
     "text": [
      "\n",
      "Evaluating models with different noise levels:\n",
      "Alpha=0.0:\n",
      "  Completed 10/100 evaluations of alpha=0.0\n",
      "  Completed 20/100 evaluations of alpha=0.0\n",
      "  Completed 30/100 evaluations of alpha=0.0\n",
      "  Completed 40/100 evaluations of alpha=0.0\n",
      "  Completed 50/100 evaluations of alpha=0.0\n",
      "  Completed 60/100 evaluations of alpha=0.0\n",
      "  Completed 70/100 evaluations of alpha=0.0\n",
      "  Completed 80/100 evaluations of alpha=0.0\n",
      "  Completed 90/100 evaluations of alpha=0.0\n",
      "  Completed 100/100 evaluations of alpha=0.0\n",
      "  ReLU Mean Accuracy: 94.06% ± 0.00%\n",
      "  gRReLU Mean Accuracy: 93.85% ± 0.00%\n",
      "Alpha=0.1:\n",
      "  Completed 10/100 evaluations of alpha=0.1\n",
      "  Completed 20/100 evaluations of alpha=0.1\n",
      "  Completed 30/100 evaluations of alpha=0.1\n",
      "  Completed 40/100 evaluations of alpha=0.1\n",
      "  Completed 50/100 evaluations of alpha=0.1\n",
      "  Completed 60/100 evaluations of alpha=0.1\n",
      "  Completed 70/100 evaluations of alpha=0.1\n",
      "  Completed 80/100 evaluations of alpha=0.1\n",
      "  Completed 90/100 evaluations of alpha=0.1\n",
      "  Completed 100/100 evaluations of alpha=0.1\n",
      "  ReLU Mean Accuracy: 92.31% ± 1.09%\n",
      "  gRReLU Mean Accuracy: 93.30% ± 0.15%\n",
      "Alpha=0.2:\n",
      "  Completed 10/100 evaluations of alpha=0.2\n",
      "  Completed 20/100 evaluations of alpha=0.2\n",
      "  Completed 30/100 evaluations of alpha=0.2\n",
      "  Completed 40/100 evaluations of alpha=0.2\n",
      "  Completed 50/100 evaluations of alpha=0.2\n",
      "  Completed 60/100 evaluations of alpha=0.2\n",
      "  Completed 70/100 evaluations of alpha=0.2\n",
      "  Completed 80/100 evaluations of alpha=0.2\n",
      "  Completed 90/100 evaluations of alpha=0.2\n",
      "  Completed 100/100 evaluations of alpha=0.2\n",
      "  ReLU Mean Accuracy: 84.71% ± 4.12%\n",
      "  gRReLU Mean Accuracy: 91.75% ± 0.40%\n",
      "Alpha=0.3:\n",
      "  Completed 10/100 evaluations of alpha=0.3\n",
      "  Completed 20/100 evaluations of alpha=0.3\n",
      "  Completed 30/100 evaluations of alpha=0.3\n",
      "  Completed 40/100 evaluations of alpha=0.3\n",
      "  Completed 50/100 evaluations of alpha=0.3\n",
      "  Completed 60/100 evaluations of alpha=0.3\n",
      "  Completed 70/100 evaluations of alpha=0.3\n",
      "  Completed 80/100 evaluations of alpha=0.3\n",
      "  Completed 90/100 evaluations of alpha=0.3\n",
      "  Completed 100/100 evaluations of alpha=0.3\n",
      "  ReLU Mean Accuracy: 65.55% ± 10.41%\n",
      "  gRReLU Mean Accuracy: 88.24% ± 1.28%\n",
      "Alpha=0.4:\n",
      "  Completed 10/100 evaluations of alpha=0.4\n",
      "  Completed 20/100 evaluations of alpha=0.4\n",
      "  Completed 30/100 evaluations of alpha=0.4\n",
      "  Completed 40/100 evaluations of alpha=0.4\n",
      "  Completed 50/100 evaluations of alpha=0.4\n",
      "  Completed 60/100 evaluations of alpha=0.4\n",
      "  Completed 70/100 evaluations of alpha=0.4\n",
      "  Completed 80/100 evaluations of alpha=0.4\n",
      "  Completed 90/100 evaluations of alpha=0.4\n",
      "  Completed 100/100 evaluations of alpha=0.4\n",
      "  ReLU Mean Accuracy: 36.78% ± 9.90%\n",
      "  gRReLU Mean Accuracy: 80.11% ± 2.89%\n",
      "Alpha=0.5:\n",
      "  Completed 10/100 evaluations of alpha=0.5\n",
      "  Completed 20/100 evaluations of alpha=0.5\n",
      "  Completed 30/100 evaluations of alpha=0.5\n",
      "  Completed 40/100 evaluations of alpha=0.5\n",
      "  Completed 50/100 evaluations of alpha=0.5\n",
      "  Completed 60/100 evaluations of alpha=0.5\n",
      "  Completed 70/100 evaluations of alpha=0.5\n",
      "  Completed 80/100 evaluations of alpha=0.5\n",
      "  Completed 90/100 evaluations of alpha=0.5\n",
      "  Completed 100/100 evaluations of alpha=0.5\n",
      "  ReLU Mean Accuracy: 19.53% ± 5.84%\n",
      "  gRReLU Mean Accuracy: 65.04% ± 6.50%\n"
     ]
    },
    {
     "data": {
      "image/png": "[encoded data removed]",
      "text/plain": [
       "<Figure size 1000x600 with 1 Axes>"
      ]
     },
     "metadata": {},
     "output_type": "display_data"
    }
   ],
   "source": [
    "seed = 2024\n",
    "train_fp.set_seed(seed)\n",
    "\n",
    "# Lists to store results\n",
    "alphas = np.arange(0, .6, 0.1)\n",
    "K = 100  # Number of evaluations per alpha\n",
    "relu_accuracies_all = []\n",
    "grrelu_accuracies_all = []\n",
    "\n",
    "print(\"\\nEvaluating models with different noise levels:\")\n",
    "for alpha in alphas:\n",
    "    nm.d2d_std = alpha\n",
    "    relu_accuracies_alpha = []\n",
    "    grrelu_accuracies_alpha = []\n",
    "    \n",
    "    print(f\"Alpha={alpha:.1f}:\")\n",
    "    for k in range(K):\n",
    "        # Evaluate ReLU model\n",
    "        mode_relu = train_fp.Model(train_loader, test_loader, criterion, optim.AdamW, num_epochs=num_epochs, activation_type='relu')\n",
    "        model_grrelu = train_fp.Model(train_loader, test_loader, criterion, optim.AdamW, num_epochs=num_epochs, activation_type='grrelu')\n",
    "        # Load models\n",
    "        # model_grrelu.net.load_state_dict(torch.load(f'./best_model_grrelu_slope_0.1x_addmul_noise_learable.pth', weights_only=False))\n",
    "        model_grrelu.net.load_state_dict(torch.load(f'./best_model_grrelu.pth', weights_only=False))\n",
    "\n",
    "        mode_relu.net.load_state_dict(torch.load(f'./best_model_relu.pth', weights_only=False))\n",
    "        # model_grrelu.net.load_state_dict(torch.load(f'./best_model_grrelu_pos.pth', weights_only=True))\n",
    "\n",
    "        # mode_relu_copy = copy.deepcopy(mode_relu.net)\n",
    "        # inject_noise(mode_relu_copy, alpha=alpha)\n",
    "        noisy_mode_relu = nm.apply_device_to_device_variation(mode_relu.net)\n",
    "        mode_relu.net = noisy_mode_relu\n",
    "        relu_acc = mode_relu.eval(test_loader)\n",
    "        relu_accuracies_alpha.append(relu_acc)\n",
    "        \n",
    "        # Evaluate gRReLU model\n",
    "        # model_grrelu_copy = copy.deepcopy(model_grrelu.net)\n",
    "        # inject_noise(model_grrelu_copy, alpha=alpha)\n",
    "        noisy_mode_relu = nm.apply_device_to_device_variation(model_grrelu.net)\n",
    "        model_grrelu.net = noisy_mode_relu\n",
    "        grrelu_acc = model_grrelu.eval(test_loader)\n",
    "        grrelu_accuracies_alpha.append(grrelu_acc)\n",
    "        \n",
    "        if (k + 1) % 10 == 0:\n",
    "            print(f\"  Completed {k + 1}/{K} evaluations of alpha={alpha:.1f}\")\n",
    "    \n",
    "    relu_accuracies_all.append(relu_accuracies_alpha)\n",
    "    grrelu_accuracies_all.append(grrelu_accuracies_alpha)\n",
    "    \n",
    "    print(f\"  ReLU Mean Accuracy: {np.mean(relu_accuracies_alpha):.2f}% ± {np.std(relu_accuracies_alpha):.2f}%\")\n",
    "    print(f\"  gRReLU Mean Accuracy: {np.mean(grrelu_accuracies_alpha):.2f}% ± {np.std(grrelu_accuracies_alpha):.2f}%\")\n",
    "\n",
    "# Calculate means and standard deviations\n",
    "relu_means = np.array([np.mean(accs) for accs in relu_accuracies_all])\n",
    "relu_stds = np.array([np.std(accs) for accs in relu_accuracies_all])\n",
    "grrelu_means = np.array([np.mean(accs) for accs in grrelu_accuracies_all])\n",
    "grrelu_stds = np.array([np.std(accs) for accs in grrelu_accuracies_all])\n",
    "\n",
    "torch.save(relu_accuracies_all, './relu_accuracies_all.pth')\n",
    "torch.save(grrelu_accuracies_all, './grrelu_accuracies_all.pth')\n",
    "\n",
    "plt.figure(figsize=(10, 6))\n",
    "# Plot ReLU with error band\n",
    "plt.plot(alphas, relu_means, 'b-', label='ReLU')\n",
    "plt.fill_between(alphas, relu_means - relu_stds, relu_means + relu_stds, color='b', alpha=0.2)\n",
    "# Plot gRReLU with error band\n",
    "plt.plot(alphas, grrelu_means, 'r-', label='gRReLU')\n",
    "plt.fill_between(alphas, grrelu_means - grrelu_stds, grrelu_means + grrelu_stds, color='r', alpha=0.2)\n",
    "\n",
    "plt.xlabel('Noise Level (α)')\n",
    "plt.ylabel('Accuracy (%)')\n",
    "plt.title('Model Accuracy vs Noise Level (with ±1 std)')\n",
    "plt.legend()\n",
    "plt.grid(True)\n",
    "# plt.savefig('noise_robustness_seed_'+str(seed)+'_slope_std0_addmul_noise_learable_k_'+str(k)+'_logstd.png')\n",
    "# plt.close()\n",
    "plt.show()"
   ]
  },
  {
   "cell_type": "code",
   "execution_count": 4,
   "metadata": {},
   "outputs": [
    {
     "name": "stdout",
     "output_type": "stream",
     "text": [
      "Files already downloaded and verified\n"
     ]
    }
   ],
   "source": [
    "transform_test = transforms.Compose([\n",
    "        transforms.ToTensor(),\n",
    "        transforms.Normalize((0.4914, 0.4822, 0.4465), (0.2023, 0.1994, 0.2010)),\n",
    "    ])\n",
    "\n",
    "testset = datasets.CIFAR10(\n",
    "    root='./data', train=False, download=True, transform=transform_test)\n",
    "test_loader_eval = torch.utils.data.DataLoader(\n",
    "    testset, batch_size=100000, shuffle=False, num_workers=2)\n",
    "for x, y in test_loader_eval:\n",
    "    break"
   ]
  },
  {
   "cell_type": "code",
   "execution_count": 25,
   "metadata": {},
   "outputs": [
    {
     "name": "stdout",
     "output_type": "stream",
     "text": [
      "41.01\n",
      "31.79\n"
     ]
    }
   ],
   "source": [
    "with torch.no_grad():\n",
    "    model_grrelu = train_fp.Model(train_loader, test_loader, criterion, optim.AdamW, num_epochs=num_epochs, activation_type='grrelu')\n",
    "    model_grrelu.net.load_state_dict(torch.load(f'./best_model_grrelu.pth', weights_only=False))\n",
    "    model_grrelu.net.to('cuda:1')\n",
    "    model_grrelu.net.eval()\n",
    "    inter_out = model_grrelu.net.bn1(model_grrelu.net.activation(model_grrelu.net.conv1(x.to('cuda:1')))).cpu()\n",
    "    print(model_grrelu.eval(test_loader, device='cuda:1'))\n",
    "    \n",
    "    nm = noise_model.RRAMNonidealities(d2d_std=0.3,)\n",
    "    noisy_mode_relu = nm.apply_device_to_device_variation(model_grrelu.net)\n",
    "    model_grrelu.net = noisy_mode_relu\n",
    "    model_grrelu.net.eval()\n",
    "    inter_noisy_out = model_grrelu.net.bn1(model_grrelu.net.activation(model_grrelu.net.conv1(x.to('cuda:1')))).cpu()\n",
    "    print(model_grrelu.eval(test_loader, device='cuda:1'))"
   ]
  },
  {
   "cell_type": "code",
   "execution_count": 5,
   "metadata": {},
   "outputs": [
    {
     "name": "stdout",
     "output_type": "stream",
     "text": [
      "94.06\n",
      "71.35\n"
     ]
    }
   ],
   "source": [
    "with torch.no_grad():\n",
    "    model_grrelu = train_fp.Model(train_loader, test_loader, criterion, optim.AdamW, num_epochs=num_epochs, activation_type='relu')\n",
    "    model_grrelu.net.load_state_dict(torch.load(f'./best_model_relu.pth', weights_only=False))\n",
    "    model_grrelu.net.to('cuda:1')\n",
    "    model_grrelu.net.eval()\n",
    "    inter_out = model_grrelu.net.conv1(x.to('cuda:1')).cpu()\n",
    "    print(model_grrelu.eval(test_loader, device='cuda:1'))\n",
    "    \n",
    "    nm = noise_model.RRAMNonidealities(d2d_std=0.3,)\n",
    "    noisy_mode_relu = nm.apply_device_to_device_variation(model_grrelu.net)\n",
    "    model_grrelu.net = noisy_mode_relu\n",
    "    model_grrelu.net.eval()\n",
    "    inter_noisy_out = model_grrelu.net.conv1(x.to('cuda:1')).cpu()\n",
    "    print(model_grrelu.eval(test_loader, device='cuda:1'))"
   ]
  },
  {
   "cell_type": "code",
   "execution_count": 6,
   "metadata": {},
   "outputs": [
    {
     "data": {
      "text/plain": [
       "(tensor(-0.0004), tensor(-0.0003), tensor(0.3576), tensor(0.3736))"
      ]
     },
     "execution_count": 6,
     "metadata": {},
     "output_type": "execute_result"
    }
   ],
   "source": [
    "inter_out.mean(), inter_noisy_out.mean(), inter_out.std(), inter_noisy_out.std()"
   ]
  },
  {
   "cell_type": "code",
   "execution_count": 9,
   "metadata": {},
   "outputs": [
    {
     "name": "stdout",
     "output_type": "stream",
     "text": [
      "94.06\n",
      "64.61\n"
     ]
    }
   ],
   "source": [
    "with torch.no_grad():\n",
    "    model_grrelu = train_fp.Model(train_loader, test_loader, criterion, optim.AdamW, num_epochs=num_epochs, activation_type='relu')\n",
    "    model_grrelu.net.load_state_dict(torch.load(f'./best_model_relu.pth', weights_only=False))\n",
    "    model_grrelu.net.to('cuda:1')\n",
    "    model_grrelu.net.eval()\n",
    "    inter_out = model_grrelu.net.bn1(model_grrelu.net.conv1(x.to('cuda:1'))).cpu().relu()\n",
    "    print(model_grrelu.eval(test_loader, device='cuda:1'))\n",
    "    \n",
    "    nm = noise_model.RRAMNonidealities(d2d_std=0.3,)\n",
    "    noisy_mode_relu = nm.apply_device_to_device_variation(model_grrelu.net)\n",
    "    model_grrelu.net = noisy_mode_relu\n",
    "    model_grrelu.net.eval()\n",
    "    inter_noisy_out = model_grrelu.net.bn1(model_grrelu.net.conv1(x.to('cuda:1'))).cpu().relu()\n",
    "    print(model_grrelu.eval(test_loader, device='cuda:1'))"
   ]
  },
  {
   "cell_type": "code",
   "execution_count": 10,
   "metadata": {},
   "outputs": [
    {
     "data": {
      "text/plain": [
       "(tensor(0.0502), tensor(0.0588), tensor(0.1175), tensor(0.1662))"
      ]
     },
     "execution_count": 10,
     "metadata": {},
     "output_type": "execute_result"
    }
   ],
   "source": [
    "inter_out.mean(), inter_noisy_out.mean(), inter_out.std(), inter_noisy_out.std()"
   ]
  },
  {
   "cell_type": "code",
   "execution_count": 21,
   "metadata": {},
   "outputs": [
    {
     "data": {
      "image/png": "[encoded data removed]",
      "text/plain": [
       "<Figure size 640x480 with 1 Axes>"
      ]
     },
     "metadata": {},
     "output_type": "display_data"
    }
   ],
   "source": [
    "_ = plt.hist(inter_out.numpy().flatten(), bins=30, alpha=0.5, label='Original')\n",
    "_ = plt.hist(inter_noisy_out.numpy().flatten(), bins=30, alpha=0.5, label='Noisy')"
   ]
  }
 ],
 "metadata": {
  "kernelspec": {
   "display_name": "pytorch",
   "language": "python",
   "name": "python3"
  },
  "language_info": {
   "codemirror_mode": {
    "name": "ipython",
    "version": 3
   },
   "file_extension": ".py",
   "mimetype": "text/x-python",
   "name": "python",
   "nbconvert_exporter": "python",
   "pygments_lexer": "ipython3",
   "version": "3.12.4"
  }
 },
 "nbformat": 4,
 "nbformat_minor": 2
}
